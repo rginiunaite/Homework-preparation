{
 "cells": [
  {
   "cell_type": "markdown",
   "metadata": {
    "datalore": {
     "hide_input_from_viewers": true,
     "hide_output_from_viewers": true,
     "node_id": "bIyy5zqh6F3D5odvbsmb3Q",
     "type": "MD"
    }
   },
   "source": [
    "# **Vinted homework**\n",
    "\n",
    "This is homework assignment"
   ]
  },
  {
   "cell_type": "code",
   "execution_count": 5,
   "metadata": {
    "datalore": {
     "hide_input_from_viewers": false,
     "hide_output_from_viewers": true,
     "node_id": "ZnOZaneELZa4Vo6aYHCP7p",
     "report_properties": {
      "height": 6,
      "splitHeight": 5,
      "width": 1,
      "x": 0,
      "y": 14
     },
     "type": "CODE"
    }
   },
   "outputs": [],
   "source": [
    "#import libraries\n",
    "\n",
    "import pandas as pd\n",
    "import numpy as np\n",
    "\n",
    "import matplotlib.pyplot as plt\n",
    "import seaborn as sns\n",
    "\n",
    "import warnings\n",
    "warnings.filterwarnings('ignore')\n"
   ]
  },
  {
   "cell_type": "code",
   "execution_count": 6,
   "metadata": {
    "datalore": {
     "hide_input_from_viewers": true,
     "hide_output_from_viewers": true,
     "node_id": "aF9dKG5TvHl3rJLEjtAMur",
     "type": "CODE"
    }
   },
   "outputs": [],
   "source": [
    "# Set default plotting parameters\n",
    "plt.rcParams['figure.figsize'] = [20.0, 7.0]\n",
    "plt.rcParams.update({'font.size': 22})\n",
    "\n",
    "sns.set_palette('colorblind')\n",
    "sns.set_style('white')\n",
    "sns.set_context('talk')\n"
   ]
  },
  {
   "cell_type": "markdown",
   "metadata": {
    "datalore": {
     "hide_input_from_viewers": true,
     "hide_output_from_viewers": true,
     "node_id": "y3E3Oy2MhPvUdhhol1A99p",
     "type": "MD"
    }
   },
   "source": [
    "Read the data. Also check:\n",
    "How much data do I have? \n",
    "Data example"
   ]
  },
  {
   "cell_type": "code",
   "execution_count": 7,
   "metadata": {
    "datalore": {
     "hide_input_from_viewers": false,
     "hide_output_from_viewers": false,
     "node_id": "WVR1Vk1xiJ3bnvRnHBMPGI",
     "report_properties": {
      "height": 14,
      "width": 1,
      "x": 0,
      "y": 0
     },
     "type": "CODE"
    }
   },
   "outputs": [
    {
     "ename": "FileNotFoundError",
     "evalue": "[Errno 2] No such file or directory: '/data/notebook_files/SalesForCourse_quizz_table.csv'",
     "output_type": "error",
     "traceback": [
      "\u001b[0;31m---------------------------------------------------------------------------\u001b[0m",
      "\u001b[0;31mFileNotFoundError\u001b[0m                         Traceback (most recent call last)",
      "Cell \u001b[0;32mIn[7], line 2\u001b[0m\n\u001b[1;32m      1\u001b[0m \u001b[38;5;66;03m# import data\u001b[39;00m\n\u001b[0;32m----> 2\u001b[0m sales_df \u001b[38;5;241m=\u001b[39m \u001b[43mpd\u001b[49m\u001b[38;5;241;43m.\u001b[39;49m\u001b[43mread_csv\u001b[49m\u001b[43m(\u001b[49m\u001b[38;5;124;43m\"\u001b[39;49m\u001b[38;5;124;43m/data/notebook_files/SalesForCourse_quizz_table.csv\u001b[39;49m\u001b[38;5;124;43m\"\u001b[39;49m\u001b[43m)\u001b[49m\n\u001b[1;32m      4\u001b[0m \u001b[38;5;28mprint\u001b[39m(sales_df\u001b[38;5;241m.\u001b[39mshape) \u001b[38;5;66;03m# print shape\u001b[39;00m\n\u001b[1;32m      6\u001b[0m sales_df\u001b[38;5;241m.\u001b[39mhead() \u001b[38;5;66;03m# data example\u001b[39;00m\n",
      "File \u001b[0;32m~/.local/lib/python3.8/site-packages/pandas/util/_decorators.py:311\u001b[0m, in \u001b[0;36mdeprecate_nonkeyword_arguments.<locals>.decorate.<locals>.wrapper\u001b[0;34m(*args, **kwargs)\u001b[0m\n\u001b[1;32m    305\u001b[0m \u001b[38;5;28;01mif\u001b[39;00m \u001b[38;5;28mlen\u001b[39m(args) \u001b[38;5;241m>\u001b[39m num_allow_args:\n\u001b[1;32m    306\u001b[0m     warnings\u001b[38;5;241m.\u001b[39mwarn(\n\u001b[1;32m    307\u001b[0m         msg\u001b[38;5;241m.\u001b[39mformat(arguments\u001b[38;5;241m=\u001b[39marguments),\n\u001b[1;32m    308\u001b[0m         \u001b[38;5;167;01mFutureWarning\u001b[39;00m,\n\u001b[1;32m    309\u001b[0m         stacklevel\u001b[38;5;241m=\u001b[39mstacklevel,\n\u001b[1;32m    310\u001b[0m     )\n\u001b[0;32m--> 311\u001b[0m \u001b[38;5;28;01mreturn\u001b[39;00m \u001b[43mfunc\u001b[49m\u001b[43m(\u001b[49m\u001b[38;5;241;43m*\u001b[39;49m\u001b[43margs\u001b[49m\u001b[43m,\u001b[49m\u001b[43m \u001b[49m\u001b[38;5;241;43m*\u001b[39;49m\u001b[38;5;241;43m*\u001b[39;49m\u001b[43mkwargs\u001b[49m\u001b[43m)\u001b[49m\n",
      "File \u001b[0;32m~/.local/lib/python3.8/site-packages/pandas/io/parsers/readers.py:678\u001b[0m, in \u001b[0;36mread_csv\u001b[0;34m(filepath_or_buffer, sep, delimiter, header, names, index_col, usecols, squeeze, prefix, mangle_dupe_cols, dtype, engine, converters, true_values, false_values, skipinitialspace, skiprows, skipfooter, nrows, na_values, keep_default_na, na_filter, verbose, skip_blank_lines, parse_dates, infer_datetime_format, keep_date_col, date_parser, dayfirst, cache_dates, iterator, chunksize, compression, thousands, decimal, lineterminator, quotechar, quoting, doublequote, escapechar, comment, encoding, encoding_errors, dialect, error_bad_lines, warn_bad_lines, on_bad_lines, delim_whitespace, low_memory, memory_map, float_precision, storage_options)\u001b[0m\n\u001b[1;32m    663\u001b[0m kwds_defaults \u001b[38;5;241m=\u001b[39m _refine_defaults_read(\n\u001b[1;32m    664\u001b[0m     dialect,\n\u001b[1;32m    665\u001b[0m     delimiter,\n\u001b[0;32m   (...)\u001b[0m\n\u001b[1;32m    674\u001b[0m     defaults\u001b[38;5;241m=\u001b[39m{\u001b[38;5;124m\"\u001b[39m\u001b[38;5;124mdelimiter\u001b[39m\u001b[38;5;124m\"\u001b[39m: \u001b[38;5;124m\"\u001b[39m\u001b[38;5;124m,\u001b[39m\u001b[38;5;124m\"\u001b[39m},\n\u001b[1;32m    675\u001b[0m )\n\u001b[1;32m    676\u001b[0m kwds\u001b[38;5;241m.\u001b[39mupdate(kwds_defaults)\n\u001b[0;32m--> 678\u001b[0m \u001b[38;5;28;01mreturn\u001b[39;00m \u001b[43m_read\u001b[49m\u001b[43m(\u001b[49m\u001b[43mfilepath_or_buffer\u001b[49m\u001b[43m,\u001b[49m\u001b[43m \u001b[49m\u001b[43mkwds\u001b[49m\u001b[43m)\u001b[49m\n",
      "File \u001b[0;32m~/.local/lib/python3.8/site-packages/pandas/io/parsers/readers.py:575\u001b[0m, in \u001b[0;36m_read\u001b[0;34m(filepath_or_buffer, kwds)\u001b[0m\n\u001b[1;32m    572\u001b[0m _validate_names(kwds\u001b[38;5;241m.\u001b[39mget(\u001b[38;5;124m\"\u001b[39m\u001b[38;5;124mnames\u001b[39m\u001b[38;5;124m\"\u001b[39m, \u001b[38;5;28;01mNone\u001b[39;00m))\n\u001b[1;32m    574\u001b[0m \u001b[38;5;66;03m# Create the parser.\u001b[39;00m\n\u001b[0;32m--> 575\u001b[0m parser \u001b[38;5;241m=\u001b[39m \u001b[43mTextFileReader\u001b[49m\u001b[43m(\u001b[49m\u001b[43mfilepath_or_buffer\u001b[49m\u001b[43m,\u001b[49m\u001b[43m \u001b[49m\u001b[38;5;241;43m*\u001b[39;49m\u001b[38;5;241;43m*\u001b[39;49m\u001b[43mkwds\u001b[49m\u001b[43m)\u001b[49m\n\u001b[1;32m    577\u001b[0m \u001b[38;5;28;01mif\u001b[39;00m chunksize \u001b[38;5;129;01mor\u001b[39;00m iterator:\n\u001b[1;32m    578\u001b[0m     \u001b[38;5;28;01mreturn\u001b[39;00m parser\n",
      "File \u001b[0;32m~/.local/lib/python3.8/site-packages/pandas/io/parsers/readers.py:932\u001b[0m, in \u001b[0;36mTextFileReader.__init__\u001b[0;34m(self, f, engine, **kwds)\u001b[0m\n\u001b[1;32m    929\u001b[0m     \u001b[38;5;28mself\u001b[39m\u001b[38;5;241m.\u001b[39moptions[\u001b[38;5;124m\"\u001b[39m\u001b[38;5;124mhas_index_names\u001b[39m\u001b[38;5;124m\"\u001b[39m] \u001b[38;5;241m=\u001b[39m kwds[\u001b[38;5;124m\"\u001b[39m\u001b[38;5;124mhas_index_names\u001b[39m\u001b[38;5;124m\"\u001b[39m]\n\u001b[1;32m    931\u001b[0m \u001b[38;5;28mself\u001b[39m\u001b[38;5;241m.\u001b[39mhandles: IOHandles \u001b[38;5;241m|\u001b[39m \u001b[38;5;28;01mNone\u001b[39;00m \u001b[38;5;241m=\u001b[39m \u001b[38;5;28;01mNone\u001b[39;00m\n\u001b[0;32m--> 932\u001b[0m \u001b[38;5;28mself\u001b[39m\u001b[38;5;241m.\u001b[39m_engine \u001b[38;5;241m=\u001b[39m \u001b[38;5;28;43mself\u001b[39;49m\u001b[38;5;241;43m.\u001b[39;49m\u001b[43m_make_engine\u001b[49m\u001b[43m(\u001b[49m\u001b[43mf\u001b[49m\u001b[43m,\u001b[49m\u001b[43m \u001b[49m\u001b[38;5;28;43mself\u001b[39;49m\u001b[38;5;241;43m.\u001b[39;49m\u001b[43mengine\u001b[49m\u001b[43m)\u001b[49m\n",
      "File \u001b[0;32m~/.local/lib/python3.8/site-packages/pandas/io/parsers/readers.py:1216\u001b[0m, in \u001b[0;36mTextFileReader._make_engine\u001b[0;34m(self, f, engine)\u001b[0m\n\u001b[1;32m   1212\u001b[0m     mode \u001b[38;5;241m=\u001b[39m \u001b[38;5;124m\"\u001b[39m\u001b[38;5;124mrb\u001b[39m\u001b[38;5;124m\"\u001b[39m\n\u001b[1;32m   1213\u001b[0m \u001b[38;5;66;03m# error: No overload variant of \"get_handle\" matches argument types\u001b[39;00m\n\u001b[1;32m   1214\u001b[0m \u001b[38;5;66;03m# \"Union[str, PathLike[str], ReadCsvBuffer[bytes], ReadCsvBuffer[str]]\"\u001b[39;00m\n\u001b[1;32m   1215\u001b[0m \u001b[38;5;66;03m# , \"str\", \"bool\", \"Any\", \"Any\", \"Any\", \"Any\", \"Any\"\u001b[39;00m\n\u001b[0;32m-> 1216\u001b[0m \u001b[38;5;28mself\u001b[39m\u001b[38;5;241m.\u001b[39mhandles \u001b[38;5;241m=\u001b[39m \u001b[43mget_handle\u001b[49m\u001b[43m(\u001b[49m\u001b[43m  \u001b[49m\u001b[38;5;66;43;03m# type: ignore[call-overload]\u001b[39;49;00m\n\u001b[1;32m   1217\u001b[0m \u001b[43m    \u001b[49m\u001b[43mf\u001b[49m\u001b[43m,\u001b[49m\n\u001b[1;32m   1218\u001b[0m \u001b[43m    \u001b[49m\u001b[43mmode\u001b[49m\u001b[43m,\u001b[49m\n\u001b[1;32m   1219\u001b[0m \u001b[43m    \u001b[49m\u001b[43mencoding\u001b[49m\u001b[38;5;241;43m=\u001b[39;49m\u001b[38;5;28;43mself\u001b[39;49m\u001b[38;5;241;43m.\u001b[39;49m\u001b[43moptions\u001b[49m\u001b[38;5;241;43m.\u001b[39;49m\u001b[43mget\u001b[49m\u001b[43m(\u001b[49m\u001b[38;5;124;43m\"\u001b[39;49m\u001b[38;5;124;43mencoding\u001b[39;49m\u001b[38;5;124;43m\"\u001b[39;49m\u001b[43m,\u001b[49m\u001b[43m \u001b[49m\u001b[38;5;28;43;01mNone\u001b[39;49;00m\u001b[43m)\u001b[49m\u001b[43m,\u001b[49m\n\u001b[1;32m   1220\u001b[0m \u001b[43m    \u001b[49m\u001b[43mcompression\u001b[49m\u001b[38;5;241;43m=\u001b[39;49m\u001b[38;5;28;43mself\u001b[39;49m\u001b[38;5;241;43m.\u001b[39;49m\u001b[43moptions\u001b[49m\u001b[38;5;241;43m.\u001b[39;49m\u001b[43mget\u001b[49m\u001b[43m(\u001b[49m\u001b[38;5;124;43m\"\u001b[39;49m\u001b[38;5;124;43mcompression\u001b[39;49m\u001b[38;5;124;43m\"\u001b[39;49m\u001b[43m,\u001b[49m\u001b[43m \u001b[49m\u001b[38;5;28;43;01mNone\u001b[39;49;00m\u001b[43m)\u001b[49m\u001b[43m,\u001b[49m\n\u001b[1;32m   1221\u001b[0m \u001b[43m    \u001b[49m\u001b[43mmemory_map\u001b[49m\u001b[38;5;241;43m=\u001b[39;49m\u001b[38;5;28;43mself\u001b[39;49m\u001b[38;5;241;43m.\u001b[39;49m\u001b[43moptions\u001b[49m\u001b[38;5;241;43m.\u001b[39;49m\u001b[43mget\u001b[49m\u001b[43m(\u001b[49m\u001b[38;5;124;43m\"\u001b[39;49m\u001b[38;5;124;43mmemory_map\u001b[39;49m\u001b[38;5;124;43m\"\u001b[39;49m\u001b[43m,\u001b[49m\u001b[43m \u001b[49m\u001b[38;5;28;43;01mFalse\u001b[39;49;00m\u001b[43m)\u001b[49m\u001b[43m,\u001b[49m\n\u001b[1;32m   1222\u001b[0m \u001b[43m    \u001b[49m\u001b[43mis_text\u001b[49m\u001b[38;5;241;43m=\u001b[39;49m\u001b[43mis_text\u001b[49m\u001b[43m,\u001b[49m\n\u001b[1;32m   1223\u001b[0m \u001b[43m    \u001b[49m\u001b[43merrors\u001b[49m\u001b[38;5;241;43m=\u001b[39;49m\u001b[38;5;28;43mself\u001b[39;49m\u001b[38;5;241;43m.\u001b[39;49m\u001b[43moptions\u001b[49m\u001b[38;5;241;43m.\u001b[39;49m\u001b[43mget\u001b[49m\u001b[43m(\u001b[49m\u001b[38;5;124;43m\"\u001b[39;49m\u001b[38;5;124;43mencoding_errors\u001b[39;49m\u001b[38;5;124;43m\"\u001b[39;49m\u001b[43m,\u001b[49m\u001b[43m \u001b[49m\u001b[38;5;124;43m\"\u001b[39;49m\u001b[38;5;124;43mstrict\u001b[39;49m\u001b[38;5;124;43m\"\u001b[39;49m\u001b[43m)\u001b[49m\u001b[43m,\u001b[49m\n\u001b[1;32m   1224\u001b[0m \u001b[43m    \u001b[49m\u001b[43mstorage_options\u001b[49m\u001b[38;5;241;43m=\u001b[39;49m\u001b[38;5;28;43mself\u001b[39;49m\u001b[38;5;241;43m.\u001b[39;49m\u001b[43moptions\u001b[49m\u001b[38;5;241;43m.\u001b[39;49m\u001b[43mget\u001b[49m\u001b[43m(\u001b[49m\u001b[38;5;124;43m\"\u001b[39;49m\u001b[38;5;124;43mstorage_options\u001b[39;49m\u001b[38;5;124;43m\"\u001b[39;49m\u001b[43m,\u001b[49m\u001b[43m \u001b[49m\u001b[38;5;28;43;01mNone\u001b[39;49;00m\u001b[43m)\u001b[49m\u001b[43m,\u001b[49m\n\u001b[1;32m   1225\u001b[0m \u001b[43m\u001b[49m\u001b[43m)\u001b[49m\n\u001b[1;32m   1226\u001b[0m \u001b[38;5;28;01massert\u001b[39;00m \u001b[38;5;28mself\u001b[39m\u001b[38;5;241m.\u001b[39mhandles \u001b[38;5;129;01mis\u001b[39;00m \u001b[38;5;129;01mnot\u001b[39;00m \u001b[38;5;28;01mNone\u001b[39;00m\n\u001b[1;32m   1227\u001b[0m f \u001b[38;5;241m=\u001b[39m \u001b[38;5;28mself\u001b[39m\u001b[38;5;241m.\u001b[39mhandles\u001b[38;5;241m.\u001b[39mhandle\n",
      "File \u001b[0;32m~/.local/lib/python3.8/site-packages/pandas/io/common.py:786\u001b[0m, in \u001b[0;36mget_handle\u001b[0;34m(path_or_buf, mode, encoding, compression, memory_map, is_text, errors, storage_options)\u001b[0m\n\u001b[1;32m    781\u001b[0m \u001b[38;5;28;01melif\u001b[39;00m \u001b[38;5;28misinstance\u001b[39m(handle, \u001b[38;5;28mstr\u001b[39m):\n\u001b[1;32m    782\u001b[0m     \u001b[38;5;66;03m# Check whether the filename is to be opened in binary mode.\u001b[39;00m\n\u001b[1;32m    783\u001b[0m     \u001b[38;5;66;03m# Binary mode does not support 'encoding' and 'newline'.\u001b[39;00m\n\u001b[1;32m    784\u001b[0m     \u001b[38;5;28;01mif\u001b[39;00m ioargs\u001b[38;5;241m.\u001b[39mencoding \u001b[38;5;129;01mand\u001b[39;00m \u001b[38;5;124m\"\u001b[39m\u001b[38;5;124mb\u001b[39m\u001b[38;5;124m\"\u001b[39m \u001b[38;5;129;01mnot\u001b[39;00m \u001b[38;5;129;01min\u001b[39;00m ioargs\u001b[38;5;241m.\u001b[39mmode:\n\u001b[1;32m    785\u001b[0m         \u001b[38;5;66;03m# Encoding\u001b[39;00m\n\u001b[0;32m--> 786\u001b[0m         handle \u001b[38;5;241m=\u001b[39m \u001b[38;5;28;43mopen\u001b[39;49m\u001b[43m(\u001b[49m\n\u001b[1;32m    787\u001b[0m \u001b[43m            \u001b[49m\u001b[43mhandle\u001b[49m\u001b[43m,\u001b[49m\n\u001b[1;32m    788\u001b[0m \u001b[43m            \u001b[49m\u001b[43mioargs\u001b[49m\u001b[38;5;241;43m.\u001b[39;49m\u001b[43mmode\u001b[49m\u001b[43m,\u001b[49m\n\u001b[1;32m    789\u001b[0m \u001b[43m            \u001b[49m\u001b[43mencoding\u001b[49m\u001b[38;5;241;43m=\u001b[39;49m\u001b[43mioargs\u001b[49m\u001b[38;5;241;43m.\u001b[39;49m\u001b[43mencoding\u001b[49m\u001b[43m,\u001b[49m\n\u001b[1;32m    790\u001b[0m \u001b[43m            \u001b[49m\u001b[43merrors\u001b[49m\u001b[38;5;241;43m=\u001b[39;49m\u001b[43merrors\u001b[49m\u001b[43m,\u001b[49m\n\u001b[1;32m    791\u001b[0m \u001b[43m            \u001b[49m\u001b[43mnewline\u001b[49m\u001b[38;5;241;43m=\u001b[39;49m\u001b[38;5;124;43m\"\u001b[39;49m\u001b[38;5;124;43m\"\u001b[39;49m\u001b[43m,\u001b[49m\n\u001b[1;32m    792\u001b[0m \u001b[43m        \u001b[49m\u001b[43m)\u001b[49m\n\u001b[1;32m    793\u001b[0m     \u001b[38;5;28;01melse\u001b[39;00m:\n\u001b[1;32m    794\u001b[0m         \u001b[38;5;66;03m# Binary mode\u001b[39;00m\n\u001b[1;32m    795\u001b[0m         handle \u001b[38;5;241m=\u001b[39m \u001b[38;5;28mopen\u001b[39m(handle, ioargs\u001b[38;5;241m.\u001b[39mmode)\n",
      "\u001b[0;31mFileNotFoundError\u001b[0m: [Errno 2] No such file or directory: '/data/notebook_files/SalesForCourse_quizz_table.csv'"
     ]
    }
   ],
   "source": [
    "# import data\n",
    "sales_df = pd.read_csv(\"/data/notebook_files/SalesForCourse_quizz_table.csv\")\n",
    "\n",
    "print(sales_df.shape) # print shape\n",
    "\n",
    "sales_df.head() # data example\n",
    "\n"
   ]
  },
  {
   "cell_type": "code",
   "execution_count": null,
   "metadata": {
    "datalore": {
     "hide_input_from_viewers": true,
     "hide_output_from_viewers": true,
     "node_id": "azJhBDP6zwG7cyIKOPk2Cz",
     "type": "CODE"
    }
   },
   "outputs": [],
   "source": [
    "# check number of unique values in the dataset\n",
    "for i in list(sales_df.columns):\n",
    "    print(f'Unique {i}: {sales_df[i].nunique()}')"
   ]
  },
  {
   "cell_type": "code",
   "execution_count": null,
   "metadata": {
    "datalore": {
     "hide_input_from_viewers": true,
     "hide_output_from_viewers": true,
     "node_id": "ESPM9aypm0vUZL6JCqNhxj",
     "type": "CODE"
    }
   },
   "outputs": [],
   "source": [
    "# checking for null values\n",
    "sales_df.isnull().sum()"
   ]
  },
  {
   "cell_type": "code",
   "execution_count": null,
   "metadata": {
    "datalore": {
     "hide_input_from_viewers": true,
     "hide_output_from_viewers": true,
     "node_id": "j4ixXXIi0W4Olk0HJC2ctD",
     "type": "CODE"
    }
   },
   "outputs": [],
   "source": [
    "# statistics about numerical data\n",
    "sales_df.describe()"
   ]
  },
  {
   "cell_type": "code",
   "execution_count": null,
   "metadata": {
    "datalore": {
     "hide_input_from_viewers": true,
     "hide_output_from_viewers": true,
     "node_id": "uBVGR39rdloGo2IONZ01Gf",
     "type": "CODE"
    }
   },
   "outputs": [],
   "source": [
    "# checking column types\n",
    "sales_df.info()"
   ]
  },
  {
   "cell_type": "code",
   "execution_count": null,
   "metadata": {
    "datalore": {
     "hide_input_from_viewers": true,
     "hide_output_from_viewers": true,
     "node_id": "sxDR9fezatY1katsNXOK1h",
     "type": "CODE"
    }
   },
   "outputs": [],
   "source": [
    "# convert Date to datetime\n",
    "\n",
    "sales_df['Date'] = pd.to_datetime(sales_df['Date'])\n",
    "\n",
    "# and check that it worked\n",
    "\n",
    "sales_df[['Date']].info()\n",
    "\n",
    "# check date range of dataset\n",
    "print(f\"Min Date: {sales_df['Date'].min()}\")\n",
    "print(f\"Max Date: {sales_df['Date'].max()}\")"
   ]
  },
  {
   "cell_type": "code",
   "execution_count": null,
   "metadata": {
    "datalore": {
     "hide_input_from_viewers": true,
     "hide_output_from_viewers": true,
     "node_id": "gr2hYZyquqD7s0lsbwNyvC",
     "type": "CODE"
    }
   },
   "outputs": [],
   "source": [
    "# https://stackoverflow.com/questions/43214978/seaborn-barplot-displaying-values\n",
    "# function to show values on bars\n",
    "def show_values_on_bars(axs):\n",
    "    def _show_on_single_plot(ax):        \n",
    "        for p in ax.patches:\n",
    "            _x = p.get_x() + p.get_width() / 2\n",
    "            _y = p.get_y() + p.get_height()\n",
    "            value = '{:.0f}'.format(p.get_height())\n",
    "            ax.text(_x, _y, value, ha=\"center\") \n",
    "\n",
    "    if isinstance(axs, np.ndarray):\n",
    "        for idx, ax in np.ndenumerate(axs):\n",
    "            _show_on_single_plot(ax)\n",
    "    else:\n",
    "        _show_on_single_plot(axs)"
   ]
  },
  {
   "cell_type": "markdown",
   "metadata": {
    "datalore": {
     "hide_input_from_viewers": true,
     "hide_output_from_viewers": true,
     "node_id": "XPWDd6Y9Uq51poDAS0Qdst",
     "type": "MD"
    }
   },
   "source": [
    "Investigate sales by countries"
   ]
  },
  {
   "cell_type": "code",
   "execution_count": null,
   "metadata": {
    "datalore": {
     "hide_input_from_viewers": true,
     "hide_output_from_viewers": true,
     "node_id": "KcP0UbeLidrvTAoX2sL8xC",
     "type": "CODE"
    }
   },
   "outputs": [],
   "source": [
    "\n",
    "#visualize status feature\n",
    "fig, ax = plt.subplots()\n",
    "#g = sns.countplot(x=sales_df['Country'], order = sales_df['Country'].value_counts().index, hue='Quantity',palette='colorblind')\n",
    "g = sns.countplot(data=sales_df, x=\"Country\", hue=\"Customer Gender\")\n",
    "g.set_yticklabels([])\n",
    "\n",
    "# show values on the bars to make the chart more readable and cleaner \n",
    "show_values_on_bars(ax)\n",
    "\n",
    "\n",
    "plt.title('Sales by countries')\n",
    "sns.despine(left=True, bottom=True)\n",
    "plt.xlabel('')\n",
    "plt.ylabel('')\n",
    "plt.tick_params(axis='x', which='major', labelsize=15)\n",
    "plt.show()"
   ]
  },
  {
   "cell_type": "code",
   "execution_count": null,
   "metadata": {
    "datalore": {
     "hide_input_from_viewers": true,
     "hide_output_from_viewers": true,
     "node_id": "YzKRdiuAq2QNwK3Nl3lIXv",
     "type": "CODE"
    }
   },
   "outputs": [],
   "source": [
    "#\n",
    "# Function: Copy-pasted from question and modified\n",
    "def get_num_people_by_age_category(df):\n",
    "    df[\"age_group\"] = pd.cut(x=df['Customer Age'], bins=[0,20,40,60,100], labels=[\"0-20\",\"20-40\",\"40-60\",\"60+\"])\n",
    "    return df\n",
    "\n",
    "sales_df = get_num_people_by_age_category(sales_df)\n",
    "\n",
    "sales_df.head()"
   ]
  },
  {
   "cell_type": "code",
   "execution_count": null,
   "metadata": {
    "datalore": {
     "hide_input_from_viewers": true,
     "hide_output_from_viewers": true,
     "node_id": "wAripqBwy3JWbzcrRalyHI",
     "type": "CODE"
    }
   },
   "outputs": [],
   "source": [
    "\n",
    "#visualize status feature\n",
    "fig, ax = plt.subplots()\n",
    "#g = sns.countplot(x=sales_df['Country'], order = sales_df['Country'].value_counts().index, hue='Quantity',palette='colorblind')\n",
    "g = sns.countplot(data=sales_df, x=\"Country\", hue=\"age_group\")\n",
    "g.set_yticklabels([])\n",
    "\n",
    "# show values on the bars to make the chart more readable and cleaner \n",
    "show_values_on_bars(ax)\n",
    "\n",
    "\n",
    "plt.title('Sales by countries')\n",
    "sns.despine(left=True, bottom=True)\n",
    "plt.xlabel('')\n",
    "plt.ylabel('')\n",
    "plt.tick_params(axis='x', which='major', labelsize=15)\n",
    "plt.show()"
   ]
  },
  {
   "cell_type": "code",
   "execution_count": null,
   "metadata": {
    "datalore": {
     "hide_input_from_viewers": true,
     "hide_output_from_viewers": true,
     "node_id": "2hFanYDAztTx6XNvRlB3yi",
     "type": "CODE"
    }
   },
   "outputs": [],
   "source": [
    "# plot total revenue from females and males\n",
    "\n",
    "\n",
    "temp_df = sales_df.groupby('Customer Gender',as_index=False).agg (total_quantity = ('Revenue' , 'sum'))\n",
    "\n",
    "print(temp_df)\n",
    "\n",
    "plt.bar(temp_df['Customer Gender'],temp_df['total_quantity'])\n",
    "\n",
    "g.set_yticklabels([])\n",
    "\n",
    "# show values on the bars to make the chart more readable and cleaner \n",
    "show_values_on_bars(ax)\n",
    "\n",
    "\n",
    "plt.title('Revenue by gender')\n",
    "sns.despine(left=True, bottom=True)\n",
    "plt.xlabel('')\n",
    "plt.ylabel('')\n",
    "plt.tick_params(axis='x', which='major', labelsize=15)\n",
    "plt.show()"
   ]
  },
  {
   "cell_type": "code",
   "execution_count": null,
   "metadata": {
    "datalore": {
     "hide_input_from_viewers": true,
     "hide_output_from_viewers": true,
     "node_id": "Oa6hUb56TUUNXZvbIWuksU",
     "type": "CODE"
    }
   },
   "outputs": [],
   "source": [
    "# plot total revenue from different age groups\n",
    "\n",
    "\n",
    "temp_df = sales_df.groupby('age_group',as_index=False).agg (total_quantity = ('Revenue' , 'sum'))\n",
    "\n",
    "print(temp_df)\n",
    "\n",
    "plt.bar(temp_df['age_group'],temp_df['total_quantity'])\n",
    "\n",
    "g.set_yticklabels([])\n",
    "\n",
    "# show values on the bars to make the chart more readable and cleaner \n",
    "show_values_on_bars(ax)\n",
    "\n",
    "\n",
    "plt.title('Revenue by age group')\n",
    "sns.despine(left=True, bottom=True)\n",
    "plt.xlabel('')\n",
    "plt.ylabel('')\n",
    "plt.tick_params(axis='x', which='major', labelsize=15)\n",
    "plt.show()"
   ]
  },
  {
   "cell_type": "code",
   "execution_count": null,
   "metadata": {
    "datalore": {
     "hide_input_from_viewers": true,
     "hide_output_from_viewers": true,
     "node_id": "ohJQRsBToCG1nvCQUmbnxa",
     "type": "CODE"
    }
   },
   "outputs": [],
   "source": [
    "# revenue from one individual different categories\n",
    "counts = sales_df['age_group'].value_counts()\n",
    "print(counts)\n",
    "\n",
    "temp_df = sales_df.groupby('age_group',as_index=False).agg (total_quantity = ('Revenue' , 'sum')) # sum, count, mean\n",
    "\n",
    "\n",
    "\n",
    "print(temp_df)\n",
    "\n",
    "plt.bar(temp_df['age_group'],temp_df['total_quantity'])\n",
    "\n",
    "g.set_yticklabels([])\n",
    "\n",
    "# show values on the bars to make the chart more readable and cleaner \n",
    "show_values_on_bars(ax)\n",
    "\n",
    "\n",
    "plt.title('Revenue by age group')\n",
    "sns.despine(left=True, bottom=True)\n",
    "plt.xlabel('')\n",
    "plt.ylabel('')\n",
    "plt.tick_params(axis='x', which='major', labelsize=15)\n",
    "plt.show()"
   ]
  },
  {
   "cell_type": "code",
   "execution_count": null,
   "metadata": {
    "datalore": {
     "hide_input_from_viewers": true,
     "hide_output_from_viewers": true,
     "node_id": "LrviU7JLpl3bYicB5GqHLa",
     "type": "CODE"
    }
   },
   "outputs": [],
   "source": [
    "# sales by states, only 10 maximum\n",
    "#visualize status feature\n",
    "fig, ax = plt.subplots()\n",
    "g = sns.countplot(x=sales_df['State'], order = sales_df['State'].value_counts().iloc[:10].index, palette='colorblind')\n",
    "g.set_yticklabels([])\n",
    "\n",
    "# show values on the bars to make the chart more readable and cleaner \n",
    "show_values_on_bars(ax)\n",
    "\n",
    "\n",
    "plt.title('Sales by states')\n",
    "sns.despine(left=True, bottom=True)\n",
    "plt.xlabel('')\n",
    "plt.ylabel('')\n",
    "plt.tick_params(axis='x', which='major', labelsize=15)\n",
    "plt.show()"
   ]
  },
  {
   "cell_type": "markdown",
   "metadata": {
    "datalore": {
     "hide_input_from_viewers": true,
     "hide_output_from_viewers": true,
     "node_id": "VTt7fxBVOaxHEzR5BiptWW",
     "type": "MD"
    }
   },
   "source": [
    "Plot quantity sold versus date (grouped by months)"
   ]
  },
  {
   "cell_type": "code",
   "execution_count": null,
   "metadata": {
    "datalore": {
     "hide_input_from_viewers": true,
     "hide_output_from_viewers": true,
     "node_id": "2uUrJNpEGToVMsGnat3vvL",
     "type": "CODE"
    }
   },
   "outputs": [],
   "source": [
    "# sales by gender, only 10 maximum\n",
    "#visualize status feature\n",
    "fig, ax = plt.subplots()\n",
    "g = sns.countplot(x=sales_df['Customer Gender'], order = sales_df['Customer Gender'].value_counts().index, palette='colorblind')\n",
    "g.set_yticklabels([])\n",
    "\n",
    "# show values on the bars to make the chart more readable and cleaner \n",
    "show_values_on_bars(ax)\n",
    "\n",
    "\n",
    "plt.title('Sales by gender')\n",
    "sns.despine(left=True, bottom=True)\n",
    "plt.xlabel('')\n",
    "plt.ylabel('')\n",
    "plt.tick_params(axis='x', which='major', labelsize=15)\n",
    "plt.show()"
   ]
  },
  {
   "cell_type": "code",
   "execution_count": null,
   "metadata": {
    "datalore": {
     "hide_input_from_viewers": true,
     "hide_output_from_viewers": true,
     "node_id": "GY6l0iU6O8m0iY3KwppsIt",
     "type": "CODE"
    }
   },
   "outputs": [],
   "source": [
    "## add quantity the same month\n",
    "\n",
    "# US data\n",
    "\n",
    "sales_df = sales_df.sort_values('Date')\n",
    "\n",
    "us_data_frame = sales_df[sales_df[\"Country\"] == 'United States']\n",
    "\n",
    "us_data_frame['DateYearMonth'] = pd.to_datetime(us_data_frame['Date'],format='%Y-%m')\n",
    "\n",
    "\n",
    "# print(sales_df.head())\n",
    "\n",
    "df = us_data_frame.groupby(['DateYearMonth'],as_index=False).agg (total_quantity = ('Quantity' , 'sum'))\n",
    "\n",
    "#print(df)\n",
    "\n",
    "plt.plot(df['DateYearMonth'],df['total_quantity'])\n",
    "\n",
    "\n",
    "# UK data\n",
    "\n",
    "\n",
    "uk_data_frame = sales_df[sales_df[\"Country\"] == 'United Kingdom']\n",
    "\n",
    "uk_data_frame['DateYearMonth'] = pd.to_datetime(uk_data_frame['Date'],format='%Y-%m')\n",
    "\n",
    "\n",
    "# print(sales_df.head())\n",
    "\n",
    "df = uk_data_frame.groupby(['DateYearMonth'],as_index=False).agg (total_quantity = ('Quantity' , 'sum'))\n",
    "\n",
    "#print(df)\n",
    "\n",
    "plt.plot(df['DateYearMonth'],df['total_quantity'])\n",
    "\n",
    "# Germany data\n",
    "\n",
    "\n",
    "ger_data_frame = sales_df[sales_df[\"Country\"] == 'Germany']\n",
    "\n",
    "ger_data_frame['DateYearMonth'] = pd.to_datetime(ger_data_frame['Date'],format='%Y-%m')\n",
    "\n",
    "\n",
    "# print(sales_df.head())\n",
    "\n",
    "df = ger_data_frame.groupby(['DateYearMonth'],as_index=False).agg (total_quantity = ('Quantity' , 'sum'))\n",
    "\n",
    "#print(df)\n",
    "\n",
    "plt.plot(df['DateYearMonth'],df['total_quantity'])\n",
    "\n",
    "\n",
    "plt.xlabel('')\n",
    "plt.ylabel('Quantity sold')\n",
    "plt.title('Total Quantity Sold per month', fontsize=30)\n",
    "plt.legend(['US','UK','Germany'])\n",
    "\n",
    "plt.show()\n",
    "\n",
    "\n",
    "\n"
   ]
  },
  {
   "cell_type": "code",
   "execution_count": null,
   "metadata": {
    "datalore": {
     "hide_input_from_viewers": true,
     "hide_output_from_viewers": true,
     "node_id": "sKG25KGGWfHqdRJLYWcHsc",
     "type": "CODE"
    }
   },
   "outputs": [],
   "source": [
    "## add quantity the same month\n",
    "\n",
    "# total sales\n",
    "\n",
    "sales_df = sales_df.sort_values('Date')\n",
    "\n",
    "\n",
    "sales_df['DateYearMonth'] = pd.to_datetime(sales_df['Date'],format='%Y-%m')\n",
    "\n",
    "#sales_df['Month_Year'] = sales_df['Date'].dt.to_period('M')\n",
    "#sales_df['Month_Year'] = pd.to_datetime(sales_df['Date']).dt.strftime('%Y-%m')\n",
    "\n",
    "#sales_df[\"Month_Year\"] = pd.to_datetime(sales_df[\"Month_Year\"])\n",
    "#sales_df[\"Month_Year\"] = sales_df[\"Month_Year\"].to_timestamp()\n",
    "\n",
    "\n",
    "df = sales_df.groupby(['Month_Year'],as_index=False).agg (total_quantity = ('Quantity' , 'sum'))\n",
    "\n",
    "#print(df)#.iloc[0:20,0])\n",
    "\n",
    "# print(sales_df[['Month_Year']].info())\n",
    "# print(sales_df[['DateYearMonth']].info())\n",
    "\n",
    "plt.bar(df['Month_Year'],df['total_quantity'])\n",
    "\n",
    "# n = 5  # Keeps every 2th label\n",
    "# [l.set_visible(False) for (i,l) in enumerate(ax.xaxis.get_ticklabels()) if i % n != 0]\n",
    "\n",
    "\n",
    "plt.xticks( rotation=90)\n",
    "\n",
    "plt.show()"
   ]
  },
  {
   "cell_type": "code",
   "execution_count": null,
   "metadata": {
    "datalore": {
     "hide_input_from_viewers": true,
     "hide_output_from_viewers": true,
     "node_id": "GHyZ26ukvnle1S84OjJkgs",
     "type": "CODE"
    }
   },
   "outputs": [],
   "source": [
    "## add quantity the same month\n",
    "\n",
    "\n",
    "\n",
    "# print(sales_df.head())\n",
    "\n",
    "df = sales_df.groupby(['DateYearMonth'],as_index=False).agg (total_revenue = ('Revenue' , 'sum'))\n",
    "\n",
    "#print(df)\n",
    "\n",
    "plt.plot(df['DateYearMonth'],df['total_revenue'])\n",
    "\n",
    "\n",
    "plt.xlabel('')\n",
    "plt.ylabel('Revenue')\n",
    "plt.title('Total Revenue per month', fontsize=30)\n",
    "\n",
    "plt.show()"
   ]
  }
 ],
 "metadata": {
  "datalore": {
   "base_environment": "default",
   "computation_mode": "JUPYTER",
   "package_manager": "pip",
   "packages": [],
   "version": 1
  },
  "kernelspec": {
   "display_name": "Python 2",
   "language": "python",
   "name": "python2"
  },
  "language_info": {
   "codemirror_mode": {
    "name": "ipython",
    "version": 3
   },
   "file_extension": ".py",
   "mimetype": "text/x-python",
   "name": "python",
   "nbconvert_exporter": "python",
   "pygments_lexer": "ipython3",
   "version": "3.8.10"
  }
 },
 "nbformat": 4,
 "nbformat_minor": 4
}
